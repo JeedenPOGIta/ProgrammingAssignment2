{
 "cells": [
  {
   "cell_type": "markdown",
   "id": "1cb1994a-7908-4c32-af9c-a90fb1750c45",
   "metadata": {},
   "source": [
    "# Programming Assignment 2 - Normalization problem and Div_by_3 Problem"
   ]
  },
  {
   "cell_type": "markdown",
   "id": "faefa0ac-6a89-48fb-99fc-1c273dda1560",
   "metadata": {},
   "source": [
    "# [NORMALIZATION PROBLEM]"
   ]
  },
  {
   "cell_type": "code",
   "execution_count": null,
   "id": "1ad377bf-5a3b-40c6-87cb-c533dbb6c072",
   "metadata": {},
   "outputs": [],
   "source": [
    "# Normalization is one of the most basic preprocessing techniques in\n",
    "# data analytics. This involves centering and scaling process. Centering means subtracting the data from the\n",
    "# mean and scaling means dividing with its standard deviation. Mathematically, normalization can be\n",
    "# expressed as: z = (X - x bar)/standard deviation\n",
    "\n",
    "# In Python, element-wise mean and element-wise standard deviation can be obtained by using .mean() and\n",
    "# .std() calls.\n",
    "# In this problem, create a random 5 x 5 ndarray and store it to variable X. Normalize X. Save your normalized\n",
    "# ndarray as X_normalized.npy"
   ]
  },
  {
   "cell_type": "markdown",
   "id": "09cfba1b-f3f2-4e0a-912d-a917ff560d14",
   "metadata": {},
   "source": [
    "### [START OF CODE]"
   ]
  },
  {
   "cell_type": "code",
   "execution_count": 37,
   "id": "823cbd9f-d3e7-4382-9048-31d55bb44bb0",
   "metadata": {},
   "outputs": [
    {
     "name": "stdout",
     "output_type": "stream",
     "text": [
      "The randomly generated array is: \n",
      "\n",
      "[[218 184  62  64 321]\n",
      " [159 765 155 144 463]\n",
      " [710 934 688 790 686]\n",
      " [668  89 574 147 948]\n",
      " [773 291 507 758 602]]\n",
      "\n",
      "The mean of the array is: 468.0\n",
      "\n",
      "The standard deviation of the array is: 290.5893\n",
      "\n",
      " The normalized array is:\n"
     ]
    },
    {
     "data": {
      "text/plain": [
       "array([[-0.86032073, -0.97732435, -1.39716087, -1.39027831, -0.50586859],\n",
       "       [-1.06335643,  1.02206103, -1.07712156, -1.11497567, -0.01720641],\n",
       "       [ 0.83279047,  1.60363785,  0.75708225,  1.10809311,  0.75019968],\n",
       "       [ 0.68825659, -1.30424623,  0.36477599, -1.10465182,  1.65181581],\n",
       "       [ 1.0495913 , -0.60910708,  0.13421003,  0.99797205,  0.46113191]])"
      ]
     },
     "execution_count": 37,
     "metadata": {},
     "output_type": "execute_result"
    }
   ],
   "source": [
    "# Import numpy in the code\n",
    "import numpy as np\n",
    "\n",
    "# Random 5x5 array - change to integers using .randint\n",
    "X = np.random.randint(0,999, size = (5,5))\n",
    "\n",
    "#Display the array\n",
    "print(\"The randomly generated array is: \")\n",
    "print(\"\")\n",
    "print(X)\n",
    "\n",
    "#Get the mean of X using .mean()\n",
    "print(\"\")\n",
    "mean = X.mean()\n",
    "print(f\"The mean of the array is: {mean}\")\n",
    "\n",
    "#Centering X - x bar\n",
    "centering = X - mean\n",
    "\n",
    "#Standard deviation\n",
    "sd = round(centering.std(),4)\n",
    "\n",
    "print(\"\")\n",
    "print(f\"The standard deviation of the array is: {sd}\")\n",
    "\n",
    "#Normalization\n",
    "X_normalized = centering/sd\n",
    "\n",
    "print(\"\\n The normalized array is:\")\n",
    "\n",
    "#Save your ndarray and give it a name\n",
    "np.save('X_normalized.npy', X_normalized)\n",
    "\n",
    "#Load your ndarray\n",
    "np.load('X_normalized.npy')"
   ]
  },
  {
   "cell_type": "markdown",
   "id": "cfcca3a9-8d99-4a44-beb2-5edc285d96ca",
   "metadata": {},
   "source": [
    "### [END OF CODE"
   ]
  },
  {
   "cell_type": "markdown",
   "id": "c00e1be9-8705-4797-bfcd-f4faea509a37",
   "metadata": {},
   "source": [
    "# [Div_by_3 Problem]"
   ]
  },
  {
   "cell_type": "markdown",
   "id": "a530a2b5-389c-4416-84a0-9f80993c776b",
   "metadata": {},
   "source": [
    "### [START OF CODE]"
   ]
  },
  {
   "cell_type": "code",
   "execution_count": null,
   "id": "7b664bc9-a01b-4a32-bddc-59c16129e158",
   "metadata": {},
   "outputs": [],
   "source": [
    "# create a 10 x 10 array which are the squares of the first 100 positive integers.\n",
    "# From this ndarray, determine all the elements that are divisible by 3. Save the result as div_by_3.npy"
   ]
  },
  {
   "cell_type": "code",
   "execution_count": 35,
   "id": "4361188b-36b2-4ecc-821d-258d00f94a3d",
   "metadata": {},
   "outputs": [
    {
     "name": "stdout",
     "output_type": "stream",
     "text": [
      "The 10 x 10 table consisting of the squares of the first 100 positive integers: \n",
      "\n",
      "[[    1     4     9    16    25    36    49    64    81   100]\n",
      " [  121   144   169   196   225   256   289   324   361   400]\n",
      " [  441   484   529   576   625   676   729   784   841   900]\n",
      " [  961  1024  1089  1156  1225  1296  1369  1444  1521  1600]\n",
      " [ 1681  1764  1849  1936  2025  2116  2209  2304  2401  2500]\n",
      " [ 2601  2704  2809  2916  3025  3136  3249  3364  3481  3600]\n",
      " [ 3721  3844  3969  4096  4225  4356  4489  4624  4761  4900]\n",
      " [ 5041  5184  5329  5476  5625  5776  5929  6084  6241  6400]\n",
      " [ 6561  6724  6889  7056  7225  7396  7569  7744  7921  8100]\n",
      " [ 8281  8464  8649  8836  9025  9216  9409  9604  9801 10000]]\n",
      " \n",
      " The following elements are divisible by 3: \n",
      "\n",
      "9 36 81 144 225 324 441 576 729 900 1089 1296 1521 1764 2025 2304 2601 2916 3249 3600 3969 4356 4761 5184 5625 6084 6561 7056 7569 8100 8649 9216 9801\n"
     ]
    }
   ],
   "source": [
    "# Import numpy \n",
    "import numpy as np\n",
    "\n",
    "# Create the 10 x 10 array\n",
    "array = np.arange(1,101,1).reshape(10,10) ** 2\n",
    "\n",
    "# Display the table\n",
    "print(\"The 10 x 10 table consisting of the squares of the first 100 positive integers: \\n\") \n",
    "print(array)\n",
    "\n",
    "#output variable\n",
    "div_by_3 = []\n",
    "\n",
    "# if statement (divisible by 3)\n",
    "for i in range(array.shape[0]): #rows\n",
    "    for j in range(array.shape[1]): #columns\n",
    "        if array[i, j] % 3 == 0:\n",
    "            div_by_3.append(array[i,j])\n",
    "\n",
    "# Save the result as a .npy file\n",
    "np.save('div_by_3.npy', div_by_3 )\n",
    "\n",
    "\n",
    "# output in a straight line\n",
    "print(\" \\n The following elements are divisible by 3: \\n\")\n",
    "\n",
    "#Format the output and load the result\n",
    "print(' '.join(map(str, np.load('div_by_3.npy'))))"
   ]
  },
  {
   "cell_type": "markdown",
   "id": "7e017d95-7c27-4208-8aa3-cb76b3779e0f",
   "metadata": {},
   "source": [
    "### [END OF CODE]"
   ]
  }
 ],
 "metadata": {
  "kernelspec": {
   "display_name": "Python 3 (ipykernel)",
   "language": "python",
   "name": "python3"
  },
  "language_info": {
   "codemirror_mode": {
    "name": "ipython",
    "version": 3
   },
   "file_extension": ".py",
   "mimetype": "text/x-python",
   "name": "python",
   "nbconvert_exporter": "python",
   "pygments_lexer": "ipython3",
   "version": "3.12.4"
  }
 },
 "nbformat": 4,
 "nbformat_minor": 5
}
