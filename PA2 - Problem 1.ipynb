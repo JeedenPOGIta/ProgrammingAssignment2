{
 "cells": [
  {
   "cell_type": "markdown",
   "id": "1cb1994a-7908-4c32-af9c-a90fb1750c45",
   "metadata": {},
   "source": [
    "# Programming Assignment 2 - Normalization problem"
   ]
  },
  {
   "cell_type": "code",
   "execution_count": null,
   "id": "1ad377bf-5a3b-40c6-87cb-c533dbb6c072",
   "metadata": {},
   "outputs": [],
   "source": [
    "# Normalization is one of the most basic preprocessing techniques in\n",
    "# data analytics. This involves centering and scaling process. Centering means subtracting the data from the\n",
    "# mean and scaling means dividing with its standard deviation. Mathematically, normalization can be\n",
    "# expressed as: z = (X - x bar)/standard deviation\n",
    "\n",
    "# In Python, element-wise mean and element-wise standard deviation can be obtained by using .mean() and\n",
    "# .std() calls.\n",
    "# In this problem, create a random 5 x 5 ndarray and store it to variable X. Normalize X. Save your normalized\n",
    "# ndarray as X_normalized.npy"
   ]
  },
  {
   "cell_type": "markdown",
   "id": "09cfba1b-f3f2-4e0a-912d-a917ff560d14",
   "metadata": {},
   "source": [
    "### [START OF CODE]"
   ]
  },
  {
   "cell_type": "code",
   "execution_count": 5,
   "id": "823cbd9f-d3e7-4382-9048-31d55bb44bb0",
   "metadata": {},
   "outputs": [
    {
     "name": "stdout",
     "output_type": "stream",
     "text": [
      "The randomly generated array is: \n",
      "\n",
      "[[607 722 412 893 353]\n",
      " [863 789  55 830 107]\n",
      " [252 791 108 167 183]\n",
      " [119 561 271 498 692]\n",
      " [421 512 981  57 720]]\n",
      "\n",
      "The mean of the array is: 478.56\n",
      "\n",
      "Centered values are: \n",
      "\n",
      "[[ 128.44  243.44  -66.56  414.44 -125.56]\n",
      " [ 384.44  310.44 -423.56  351.44 -371.56]\n",
      " [-226.56  312.44 -370.56 -311.56 -295.56]\n",
      " [-359.56   82.44 -207.56   19.44  213.44]\n",
      " [ -57.56   33.44  502.44 -421.56  241.44]]\n",
      "\n",
      "The normalized value of the array is: 292.68\n"
     ]
    }
   ],
   "source": [
    "# Import numpy in the code\n",
    "import numpy as np\n",
    "\n",
    "# Random 5x5 array - change to integers using .randint\n",
    "X = np.random.randint(0,999, size = (5,5))\n",
    "\n",
    "#Display the array\n",
    "print(\"The randomly generated array is: \")\n",
    "print(\"\")\n",
    "print(X)\n",
    "\n",
    "#Get the mean of X using .mean()\n",
    "print(\"\")\n",
    "mean = X.mean()\n",
    "print(f\"The mean of the array is: {mean}\")\n",
    "\n",
    "#Centering X - x bar\n",
    "centering = X - mean\n",
    "print(\"\")\n",
    "print(\"Centered values are: \")\n",
    "print(\"\")\n",
    "print(centering)\n",
    "\n",
    "#Normalization\n",
    "X_normalized = round(centering.std(),2)\n",
    "\n",
    "print(\"\")\n",
    "print(f\"The normalized value of the array is: {X_normalized}\")"
   ]
  },
  {
   "cell_type": "markdown",
   "id": "cfcca3a9-8d99-4a44-beb2-5edc285d96ca",
   "metadata": {},
   "source": [
    "### [END OF CODE"
   ]
  }
 ],
 "metadata": {
  "kernelspec": {
   "display_name": "Python 3 (ipykernel)",
   "language": "python",
   "name": "python3"
  },
  "language_info": {
   "codemirror_mode": {
    "name": "ipython",
    "version": 3
   },
   "file_extension": ".py",
   "mimetype": "text/x-python",
   "name": "python",
   "nbconvert_exporter": "python",
   "pygments_lexer": "ipython3",
   "version": "3.12.4"
  }
 },
 "nbformat": 4,
 "nbformat_minor": 5
}
