{
 "cells": [
  {
   "cell_type": "markdown",
   "id": "1cb1994a-7908-4c32-af9c-a90fb1750c45",
   "metadata": {},
   "source": [
    "# Programming Assignment 2 - Normalization problem"
   ]
  },
  {
   "cell_type": "code",
   "execution_count": null,
   "id": "1ad377bf-5a3b-40c6-87cb-c533dbb6c072",
   "metadata": {},
   "outputs": [],
   "source": [
    "# Normalization is one of the most basic preprocessing techniques in\n",
    "# data analytics. This involves centering and scaling process. Centering means subtracting the data from the\n",
    "# mean and scaling means dividing with its standard deviation. Mathematically, normalization can be\n",
    "# expressed as: z = (X - x bar)/standard deviation\n",
    "\n",
    "# In Python, element-wise mean and element-wise standard deviation can be obtained by using .mean() and\n",
    "# .std() calls.\n",
    "# In this problem, create a random 5 x 5 ndarray and store it to variable X. Normalize X. Save your normalized\n",
    "# ndarray as X_normalized.npy"
   ]
  },
  {
   "cell_type": "markdown",
   "id": "09cfba1b-f3f2-4e0a-912d-a917ff560d14",
   "metadata": {},
   "source": [
    "### [START OF CODE]"
   ]
  },
  {
   "cell_type": "code",
   "execution_count": 16,
   "id": "823cbd9f-d3e7-4382-9048-31d55bb44bb0",
   "metadata": {},
   "outputs": [
    {
     "name": "stdout",
     "output_type": "stream",
     "text": [
      "The randomly generated array is: \n",
      "\n",
      "[[276 719 381 872 210]\n",
      " [791 623 732 243 477]\n",
      " [346 132 714 195 492]\n",
      " [518 664 519  47 169]\n",
      " [115 958 590 457 206]]\n",
      "\n",
      "The mean of the array is: 457.84\n",
      "\n",
      "Centered values are: \n",
      "\n",
      "[[-181.84  261.16  -76.84  414.16 -247.84]\n",
      " [ 333.16  165.16  274.16 -214.84   19.16]\n",
      " [-111.84 -325.84  256.16 -262.84   34.16]\n",
      " [  60.16  206.16   61.16 -410.84 -288.84]\n",
      " [-342.84  500.16  132.16   -0.84 -251.84]]\n",
      "\n",
      "The standard deviation of the array is: 253.4014\n",
      "\n",
      "The normalized value of the array is: \n",
      "\n",
      " [[-0.71759667  1.03061783 -0.30323432  1.63440297 -0.978053  ]\n",
      " [ 1.31475201  0.65177225  1.08191983 -0.84782483  0.07561126]\n",
      " [-0.4413551  -1.28586503  1.01088629 -1.03724762  0.13480589]\n",
      " [ 0.2374099   0.81357088  0.2413562  -1.62130122 -1.13985163]\n",
      " [-1.35295227  1.97378546  0.52154408 -0.0033149  -0.99383823]] \n"
     ]
    }
   ],
   "source": [
    "# Import numpy in the code\n",
    "import numpy as np\n",
    "\n",
    "# Random 5x5 array - change to integers using .randint\n",
    "X = np.random.randint(0,999, size = (5,5))\n",
    "\n",
    "#Display the array\n",
    "print(\"The randomly generated array is: \")\n",
    "print(\"\")\n",
    "print(X)\n",
    "\n",
    "#Get the mean of X using .mean()\n",
    "print(\"\")\n",
    "mean = X.mean()\n",
    "print(f\"The mean of the array is: {mean}\")\n",
    "\n",
    "#Centering X - x bar\n",
    "centering = X - mean\n",
    "print(\"\")\n",
    "print(\"Centered values are: \")\n",
    "print(\"\")\n",
    "print(centering)\n",
    "\n",
    "#Standard deviation\n",
    "sd = round(centering.std(),4)\n",
    "\n",
    "print(\"\")\n",
    "print(f\"The standard deviation of the array is: {sd}\")\n",
    "\n",
    "#Normalization\n",
    "X_normalized = centering/sd\n",
    "\n",
    "#Output\n",
    "print(\"\")\n",
    "print(f\"The normalized value of the array is: \\n\\n {X_normalized} \")"
   ]
  },
  {
   "cell_type": "markdown",
   "id": "cfcca3a9-8d99-4a44-beb2-5edc285d96ca",
   "metadata": {},
   "source": [
    "### [END OF CODE"
   ]
  }
 ],
 "metadata": {
  "kernelspec": {
   "display_name": "Python 3 (ipykernel)",
   "language": "python",
   "name": "python3"
  },
  "language_info": {
   "codemirror_mode": {
    "name": "ipython",
    "version": 3
   },
   "file_extension": ".py",
   "mimetype": "text/x-python",
   "name": "python",
   "nbconvert_exporter": "python",
   "pygments_lexer": "ipython3",
   "version": "3.12.4"
  }
 },
 "nbformat": 4,
 "nbformat_minor": 5
}
