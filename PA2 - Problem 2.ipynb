{
 "cells": [
  {
   "cell_type": "markdown",
   "id": "7af0ca64-8585-4ae7-ab1e-bdeb107ce109",
   "metadata": {},
   "source": [
    "# Programming Assignment 2 - Divisible by 3 problem"
   ]
  },
  {
   "cell_type": "code",
   "execution_count": 2,
   "id": "7336e76f-1331-460e-b103-f51c6ce4f077",
   "metadata": {},
   "outputs": [],
   "source": [
    "# create a 10 x 10 array which are the squares of the first 100 positive integers.\n",
    "# From this ndarray, determine all the elements that are divisible by 3. Save the result as div_by_3.npy"
   ]
  },
  {
   "cell_type": "markdown",
   "id": "d0fb60fd-f67e-4d1d-9cb9-3df715ce8d18",
   "metadata": {},
   "source": [
    "### [START OF CODE]"
   ]
  },
  {
   "cell_type": "code",
   "execution_count": 3,
   "id": "cddfdbaf-a286-49b1-b67b-a4e946106a69",
   "metadata": {},
   "outputs": [
    {
     "name": "stdout",
     "output_type": "stream",
     "text": [
      "The 10 x 10 table consisting of the squares of the first 100 positive integers: \n",
      "\n",
      "[[    1     4     9    16    25    36    49    64    81   100]\n",
      " [  121   144   169   196   225   256   289   324   361   400]\n",
      " [  441   484   529   576   625   676   729   784   841   900]\n",
      " [  961  1024  1089  1156  1225  1296  1369  1444  1521  1600]\n",
      " [ 1681  1764  1849  1936  2025  2116  2209  2304  2401  2500]\n",
      " [ 2601  2704  2809  2916  3025  3136  3249  3364  3481  3600]\n",
      " [ 3721  3844  3969  4096  4225  4356  4489  4624  4761  4900]\n",
      " [ 5041  5184  5329  5476  5625  5776  5929  6084  6241  6400]\n",
      " [ 6561  6724  6889  7056  7225  7396  7569  7744  7921  8100]\n",
      " [ 8281  8464  8649  8836  9025  9216  9409  9604  9801 10000]]\n",
      " \n",
      " The following elements are divisible by 3: \n",
      "\n",
      "9 36 81 144 225 324 441 576 729 900 1089 1296 1521 1764 2025 2304 2601 2916 3249 3600 3969 4356 4761 5184 5625 6084 6561 7056 7569 8100 8649 9216 9801\n"
     ]
    }
   ],
   "source": [
    "# Import numpy \n",
    "import numpy as np\n",
    "\n",
    "# Create the 10 x 10 array\n",
    "array = np.arange(1,101,1).reshape(10,10) ** 2\n",
    "\n",
    "# Display the table\n",
    "print(\"The 10 x 10 table consisting of the squares of the first 100 positive integers: \\n\") \n",
    "print(array)\n",
    "\n",
    "#output variable\n",
    "div_by_3 = []\n",
    "\n",
    "# if statement (divisible by 3)\n",
    "for i in range(array.shape[0]): #rows\n",
    "    for j in range(array.shape[1]): #columns\n",
    "        if array[i, j] % 3 == 0:\n",
    "            div_by_3.append(array[i,j])\n",
    "            \n",
    "# output in a straight line\n",
    "print(\" \\n The following elements are divisible by 3: \\n\")\n",
    "print(' '.join(map(str, div_by_3)))"
   ]
  },
  {
   "cell_type": "markdown",
   "id": "94468294-2eb7-4808-82fe-43a3871c648d",
   "metadata": {},
   "source": [
    "### [END OF CODE]"
   ]
  }
 ],
 "metadata": {
  "kernelspec": {
   "display_name": "Python 3 (ipykernel)",
   "language": "python",
   "name": "python3"
  },
  "language_info": {
   "codemirror_mode": {
    "name": "ipython",
    "version": 3
   },
   "file_extension": ".py",
   "mimetype": "text/x-python",
   "name": "python",
   "nbconvert_exporter": "python",
   "pygments_lexer": "ipython3",
   "version": "3.12.4"
  }
 },
 "nbformat": 4,
 "nbformat_minor": 5
}
